{
 "cells": [
  {
   "cell_type": "code",
   "execution_count": 24,
   "id": "61405c14-8b7f-456b-affa-5097bfd87cf6",
   "metadata": {},
   "outputs": [
    {
     "name": "stdout",
     "output_type": "stream",
     "text": [
      "My third birthday was on 2005\n",
      "I was oldest in 2007\n"
     ]
    }
   ],
   "source": [
    "years_list = [2002, 2003, 2004, 2005, 2006, 2007]\n",
    "\n",
    "print(\"My third birthday was in the ye\" , years_list[3])\n",
    "print(\"I was oldest in\" ,years_list[-1])"
   ]
  },
  {
   "cell_type": "code",
   "execution_count": null,
   "id": "18d9149e-28de-4204-add4-af077bd1263b",
   "metadata": {},
   "outputs": [],
   "source": [
    "things = [\"mozzarella\", \"cinderella\", \"salmonella\"]\n",
    "\n",
    "things[1] = things[1].capitalize()\n",
    "print(things)\n",
    "things[2] = things[2].upper()\n",
    "print(things)"
   ]
  }
 ],
 "metadata": {
  "kernelspec": {
   "display_name": "Python 3 (ipykernel)",
   "language": "python",
   "name": "python3"
  },
  "language_info": {
   "codemirror_mode": {
    "name": "ipython",
    "version": 3
   },
   "file_extension": ".py",
   "mimetype": "text/x-python",
   "name": "python",
   "nbconvert_exporter": "python",
   "pygments_lexer": "ipython3",
   "version": "3.12.4"
  }
 },
 "nbformat": 4,
 "nbformat_minor": 5
}
