{
 "cells": [
  {
   "cell_type": "code",
   "execution_count": 36,
   "id": "0c0639ff-051c-4cf1-9603-d45001040214",
   "metadata": {},
   "outputs": [
    {
     "name": "stdout",
     "output_type": "stream",
     "text": [
      "There are 3600 seconds in an hour\n"
     ]
    }
   ],
   "source": [
    "#3.1\n",
    "print(f\"There are {60 * 60} seconds in an hour\")"
   ]
  },
  {
   "cell_type": "code",
   "execution_count": 7,
   "id": "c08671e3-5cfa-4f1f-94cc-e411e9fb5186",
   "metadata": {},
   "outputs": [
    {
     "name": "stdout",
     "output_type": "stream",
     "text": [
      "There are 3600 seconds in an hour\n"
     ]
    }
   ],
   "source": [
    "#3.2\n",
    "seconds_per_hour = 60*60\n",
    "print(f\"There are {seconds_per_hour} seconds in an hour\")"
   ]
  },
  {
   "cell_type": "code",
   "execution_count": 11,
   "id": "c7cd0e30-566c-46c8-b731-530b079831c7",
   "metadata": {},
   "outputs": [
    {
     "name": "stdout",
     "output_type": "stream",
     "text": [
      "There are 86400 seconds in a day\n"
     ]
    }
   ],
   "source": [
    "#3.3\n",
    "print(f\"There are {seconds_per_hour * 24} seconds in a day\")"
   ]
  },
  {
   "cell_type": "code",
   "execution_count": 30,
   "id": "e7ad43d7-cf29-4914-be69-d73129dd9ec7",
   "metadata": {},
   "outputs": [
    {
     "name": "stdout",
     "output_type": "stream",
     "text": [
      "There are 86400 seconds in a day\n"
     ]
    }
   ],
   "source": [
    "#3.4\n",
    "seconds_per_day = seconds_per_hour*24\n",
    "print(f\"There are {seconds_per_day} seconds in a day\")"
   ]
  },
  {
   "cell_type": "code",
   "execution_count": 32,
   "id": "f7f4d690-6803-4acd-9bd2-cc51c7f9437f",
   "metadata": {},
   "outputs": [
    {
     "name": "stdout",
     "output_type": "stream",
     "text": [
      "24.0\n"
     ]
    }
   ],
   "source": [
    "#3.5\n",
    "print(seconds_per_day/seconds_per_hour)"
   ]
  },
  {
   "cell_type": "code",
   "execution_count": 34,
   "id": "f94dfbc8-7a5d-489c-ba35-9b99618a2572",
   "metadata": {},
   "outputs": [
    {
     "name": "stdout",
     "output_type": "stream",
     "text": [
      "24\n"
     ]
    }
   ],
   "source": [
    "#3.6\n",
    "print(seconds_per_day//seconds_per_hour)"
   ]
  },
  {
   "cell_type": "markdown",
   "id": "c80f9152-29b1-40fe-9466-94045391d2d5",
   "metadata": {},
   "source": [
    "3.6: The values do agree with the output for seconds_per_day \"/\"or\"//\" aside from the .0"
   ]
  }
 ],
 "metadata": {
  "kernelspec": {
   "display_name": "Python 3 (ipykernel)",
   "language": "python",
   "name": "python3"
  },
  "language_info": {
   "codemirror_mode": {
    "name": "ipython",
    "version": 3
   },
   "file_extension": ".py",
   "mimetype": "text/x-python",
   "name": "python",
   "nbconvert_exporter": "python",
   "pygments_lexer": "ipython3",
   "version": "3.12.4"
  }
 },
 "nbformat": 4,
 "nbformat_minor": 5
}
